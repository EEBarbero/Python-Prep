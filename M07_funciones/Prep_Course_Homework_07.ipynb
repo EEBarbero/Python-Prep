{
 "cells": [
  {
   "attachments": {},
   "cell_type": "markdown",
   "metadata": {},
   "source": [
    "## Funciones"
   ]
  },
  {
   "attachments": {},
   "cell_type": "markdown",
   "metadata": {},
   "source": [
    "1) Crear una función que reciba un número como parámetro y devuelva True si es primo y False si no lo es"
   ]
  },
  {
   "cell_type": "code",
   "execution_count": 6,
   "metadata": {},
   "outputs": [],
   "source": [
    "def veri_primo(nro):\n",
    "    es_prim=True\n",
    "    for i in range(2,nro):\n",
    "        if(nro%i==0):\n",
    "            es_prim =False\n",
    "            break\n",
    "    return es_prim\n"
   ]
  },
  {
   "attachments": {},
   "cell_type": "markdown",
   "metadata": {},
   "source": [
    "2) Utilizando la función del punto 1, realizar otra función que reciba de parámetro una lista de números y devuelva sólo aquellos que son primos en otra lista"
   ]
  },
  {
   "cell_type": "code",
   "execution_count": 7,
   "metadata": {},
   "outputs": [],
   "source": [
    "def lista_primos(l_nros):\n",
    "    si_primos=[]\n",
    "    for elemento in l_nros:\n",
    "        if(veri_primo(elemento)):\n",
    "            si_primos.append(elemento)\n",
    "    return si_primos"
   ]
  },
  {
   "cell_type": "code",
   "execution_count": 10,
   "metadata": {},
   "outputs": [
    {
     "data": {
      "text/plain": [
       "[1, 2, 3, 5, 7, 11, 13, 17, 19]"
      ]
     },
     "execution_count": 10,
     "metadata": {},
     "output_type": "execute_result"
    }
   ],
   "source": [
    "lis_completa = [1,2,3,4,5,6,7,8,9,10,11,12,13,14,15,16,17,18,19,20]\n",
    "lis_primos = lista_primos(lis_completa)\n",
    "lis_primos"
   ]
  },
  {
   "attachments": {},
   "cell_type": "markdown",
   "metadata": {},
   "source": [
    "3) Crear una función que al recibir una lista de números, devuelva el que más se repite y cuántas veces lo hace. Si hay más de un \"más repetido\", que devuelva cualquiera"
   ]
  },
  {
   "cell_type": "code",
   "execution_count": 21,
   "metadata": {},
   "outputs": [],
   "source": [
    "def mas_repe(lista):\n",
    "    nros_unicos=[]\n",
    "    repe_nros=[]\n",
    "    for elemento in lista:\n",
    "        if((elemento in nros_unicos)==False):\n",
    "            nros_unicos.append(elemento)\n",
    "            repe_nros.append(1)\n",
    "        else:\n",
    "            posicion=nros_unicos.index(elemento)\n",
    "            repe_nros[posicion]=repe_nros[posicion]+1\n",
    "    nro_mas_repe=nros_unicos[0]\n",
    "    mas_repe=repe_nros[0]\n",
    "    for i,elemento in enumerate(nros_unicos):\n",
    "        if(mas_repe<repe_nros[i]):\n",
    "            nro_mas_repe=elemento\n",
    "            mas_repe=repe_nros[i]\n",
    "    return nro_mas_repe,mas_repe    "
   ]
  },
  {
   "cell_type": "code",
   "execution_count": 20,
   "metadata": {},
   "outputs": [
    {
     "data": {
      "text/plain": [
       "(5, 3)"
      ]
     },
     "execution_count": 20,
     "metadata": {},
     "output_type": "execute_result"
    }
   ],
   "source": [
    "lis = [1,1,5,6,8,10,22,5,6,4,11,9,5]\n",
    "\n",
    "mas_repe(lis)"
   ]
  },
  {
   "attachments": {},
   "cell_type": "markdown",
   "metadata": {},
   "source": [
    "4) A la función del punto 3, agregar un parámetro más, que permita elegir si se requiere el menor o el mayor de los mas repetidos."
   ]
  },
  {
   "cell_type": "code",
   "execution_count": 23,
   "metadata": {},
   "outputs": [],
   "source": [
    "def mas_menos_repe(lista,opera=True): #opera: True=mas repetido False= menos repetido\n",
    "    nros_unicos=[]\n",
    "    repe_nros=[]\n",
    "    for elemento in lista:\n",
    "        if((elemento in nros_unicos)==False):\n",
    "            nros_unicos.append(elemento)\n",
    "            repe_nros.append(1)\n",
    "        else:\n",
    "            posicion=nros_unicos.index(elemento)\n",
    "            repe_nros[posicion]=repe_nros[posicion]+1\n",
    "    nro_mas_repe=nros_unicos[0]\n",
    "    mas_repe=repe_nros[0]\n",
    "    nro_menos_repe=nros_unicos[0]\n",
    "    menos_repe=repe_nros[0]\n",
    "    for i,elemento in enumerate(nros_unicos):\n",
    "        if(mas_repe<repe_nros[i]):\n",
    "            nro_mas_repe=elemento\n",
    "            mas_repe=repe_nros[i]\n",
    "        if(menos_repe>repe_nros[i]):\n",
    "            nro_menos_repe=elemento\n",
    "            menos_repe=repe_nros[i]\n",
    "    if(opera==True):\n",
    "        return nro_mas_repe,mas_repe\n",
    "    else:\n",
    "        return nro_menos_repe,menos_repe"
   ]
  },
  {
   "cell_type": "code",
   "execution_count": 24,
   "metadata": {},
   "outputs": [
    {
     "data": {
      "text/plain": [
       "(8, 1)"
      ]
     },
     "execution_count": 24,
     "metadata": {},
     "output_type": "execute_result"
    }
   ],
   "source": [
    "lis = [1,1,5,6,8,10,22,5,6,4,11,9,5]\n",
    "\n",
    "mas_menos_repe(lis,False)"
   ]
  },
  {
   "cell_type": "code",
   "execution_count": 28,
   "metadata": {},
   "outputs": [],
   "source": [
    "def moda(lista,mayor = True):\n",
    "    # mayor en True devuelve el númeto mayor si hay varios numeros más repetidos, False devuelve el menor\n",
    "    if(type(lista) != list):\n",
    "        return None\n",
    "    repe = {}\n",
    "    if(mayor == True):\n",
    "        lista.sort(reverse = True)\n",
    "    else:\n",
    "        lista.sort()\n",
    "\n",
    "    for elemento in lista:\n",
    "        if(elemento in repe.keys()):\n",
    "            repe[elemento] += 1\n",
    "        else:\n",
    "            repe[elemento] = 1\n",
    "    \n",
    "    repeticiones = 0\n",
    "    for numero, repeticion in repe.items():\n",
    "        if((repeticiones == 0) or (repeticion > repeticiones)):\n",
    "            nro_moda = numero\n",
    "            repeticiones = repeticion\n",
    "\n",
    "    return nro_moda,repeticiones"
   ]
  },
  {
   "cell_type": "code",
   "execution_count": 29,
   "metadata": {},
   "outputs": [
    {
     "name": "stdout",
     "output_type": "stream",
     "text": [
      "(8, 3)\n",
      "(5, 3)\n"
     ]
    }
   ],
   "source": [
    "lis = [1,1,5,6,8,10,8,22,5,6,4,11,9,5,8]\n",
    "\n",
    "print(moda(lis))\n",
    "print(moda(lis,False))"
   ]
  },
  {
   "attachments": {},
   "cell_type": "markdown",
   "metadata": {},
   "source": [
    "5) Crear una función que convierta entre grados Celsius, Farenheit y Kelvin<br>\n",
    "Fórmula 1\t: (°C × 9/5) + 32 = °F<br>\n",
    "Fórmula 2\t: °C + 273.15 = °K<br>\n",
    "Debe recibir 3 parámetros: el valor, la medida de orígen y la medida de destino\n"
   ]
  },
  {
   "cell_type": "code",
   "execution_count": 37,
   "metadata": {},
   "outputs": [],
   "source": [
    "def convierte_tempe(valor,origen,destino): #origen/destino aceptan \"c\", \"f\" o \"k\" para las escalas de\n",
    "                                            #celsius, farenheit, kelvin\n",
    "    if(origen==\"c\"):\n",
    "        if(destino==\"c\"):\n",
    "            valor_convertido=valor\n",
    "        elif(destino==\"f\"):\n",
    "            valor_convertido=valor*9/5+32\n",
    "        else:\n",
    "            valor_convertido=valor+273.15\n",
    "    elif(origen==\"f\"):\n",
    "        if(destino==\"f\"):\n",
    "            valor_convertido=valor\n",
    "        elif(destino==\"c\"):\n",
    "            valor_convertido=(valor-32)*5/9\n",
    "        else:\n",
    "            valor_convertido=(valor-32)*5/9+273.15\n",
    "    else:\n",
    "        if(destino==\"k\"):\n",
    "            valor_convertido=valor\n",
    "        elif(destino==\"c\"):\n",
    "            valor_convertido=valor-273.15\n",
    "        else:\n",
    "            valor_convertido=(valor-273.15)*9/5+32\n",
    "    return valor_convertido"
   ]
  },
  {
   "cell_type": "code",
   "execution_count": 42,
   "metadata": {},
   "outputs": [
    {
     "name": "stdout",
     "output_type": "stream",
     "text": [
      "100ºC equivale a 100ºC\n",
      "100ºC equivale a 212.0ºF\n",
      "100ºC equivale a 373.15ºK\n",
      "100ºF equivale a 37.77777777777778ºC\n",
      "100ºF equivale a 100ºF\n",
      "100ºF equivale a 310.92777777777775ºK\n",
      "100ºK equivale a -173.14999999999998ºC\n",
      "100ºK equivale a -279.66999999999996ºF\n",
      "100ºK equivale a 100ºK\n"
     ]
    }
   ],
   "source": [
    "valor_a_convertir=100\n",
    "print(str(int(valor_a_convertir))+\"ºC equivale a \"+str(convierte_tempe(valor_a_convertir,\"c\",\"c\"))+\"ºC\")\n",
    "print(str(int(valor_a_convertir))+\"ºC equivale a \"+str(convierte_tempe(valor_a_convertir,\"c\",\"f\"))+\"ºF\")\n",
    "print(str(int(valor_a_convertir))+\"ºC equivale a \"+str(convierte_tempe(valor_a_convertir,\"c\",\"k\"))+\"ºK\")\n",
    "\n",
    "print(str(int(valor_a_convertir))+\"ºF equivale a \"+str(convierte_tempe(valor_a_convertir,\"f\",\"c\"))+\"ºC\")\n",
    "print(str(int(valor_a_convertir))+\"ºF equivale a \"+str(convierte_tempe(valor_a_convertir,\"f\",\"f\"))+\"ºF\")\n",
    "print(str(int(valor_a_convertir))+\"ºF equivale a \"+str(convierte_tempe(valor_a_convertir,\"f\",\"k\"))+\"ºK\")\n",
    "\n",
    "print(str(int(valor_a_convertir))+\"ºK equivale a \"+str(convierte_tempe(valor_a_convertir,\"k\",\"c\"))+\"ºC\")\n",
    "print(str(int(valor_a_convertir))+\"ºK equivale a \"+str(convierte_tempe(valor_a_convertir,\"k\",\"f\"))+\"ºF\")\n",
    "print(str(int(valor_a_convertir))+\"ºK equivale a \"+str(convierte_tempe(valor_a_convertir,\"k\",\"k\"))+\"ºK\")"
   ]
  },
  {
   "attachments": {},
   "cell_type": "markdown",
   "metadata": {},
   "source": [
    "6) Iterando una lista con los tres valores posibles de temperatura que recibe la función del punto 5, hacer un print para cada combinación de los mismos:"
   ]
  },
  {
   "cell_type": "code",
   "execution_count": 43,
   "metadata": {},
   "outputs": [
    {
     "name": "stdout",
     "output_type": "stream",
     "text": [
      "1ºC equivale a 1ºC\n",
      "1ºC equivale a 33.8ºF\n",
      "1ºC equivale a 274.15ºK\n",
      "1ºF equivale a -17.22222222222222ºC\n",
      "1ºF equivale a 1ºF\n",
      "1ºF equivale a 255.92777777777775ºK\n",
      "1ºK equivale a -272.15ºC\n",
      "1ºK equivale a -457.87ºF\n",
      "1ºK equivale a 1ºK\n"
     ]
    }
   ],
   "source": [
    "valor_a_convertir=1\n",
    "l_ëscalas=[\"c\",\"f\",\"k\"]\n",
    "\n",
    "for origen in l_ëscalas:\n",
    "    for destino in l_ëscalas:\n",
    "        print(str(int(valor_a_convertir))+\"º\"+origen.capitalize()+\" equivale a \"+str(convierte_tempe(valor_a_convertir,origen,destino))+\"º\"+destino.capitalize())"
   ]
  },
  {
   "attachments": {},
   "cell_type": "markdown",
   "metadata": {},
   "source": [
    "7) Armar una función que devuelva el factorial de un número. Tener en cuenta que el usuario puede equivocarse y enviar de parámetro un número no entero o negativo"
   ]
  },
  {
   "cell_type": "code",
   "execution_count": 52,
   "metadata": {},
   "outputs": [],
   "source": [
    "def factorial(numero):\n",
    "    if(type(numero)!=int):\n",
    "        return \"El argumento debe ser un número entero\"\n",
    "    if(numero<0):\n",
    "        return \"El número debe ser positivo\"\n",
    "    if(numero<=1):\n",
    "        return 1\n",
    "    resultado= numero * factorial(numero-1)\n",
    "    return resultado"
   ]
  },
  {
   "cell_type": "code",
   "execution_count": 53,
   "metadata": {},
   "outputs": [
    {
     "name": "stdout",
     "output_type": "stream",
     "text": [
      "120\n",
      "El número debe ser positivo\n",
      "El argumento debe ser un número entero\n",
      "El argumento debe ser un número entero\n"
     ]
    }
   ],
   "source": [
    "print(factorial(5))\n",
    "print(factorial(-2))\n",
    "print(factorial(1.23))\n",
    "print(factorial('6'))"
   ]
  }
 ],
 "metadata": {
  "interpreter": {
   "hash": "c85384e4cb51c8b72350f3a8712cc8351fdc3955e32a27f9b60c6242ab125f01"
  },
  "kernelspec": {
   "display_name": "Python 3 (ipykernel)",
   "language": "python",
   "name": "python3"
  },
  "language_info": {
   "codemirror_mode": {
    "name": "ipython",
    "version": 3
   },
   "file_extension": ".py",
   "mimetype": "text/x-python",
   "name": "python",
   "nbconvert_exporter": "python",
   "pygments_lexer": "ipython3",
   "version": "3.11.4"
  }
 },
 "nbformat": 4,
 "nbformat_minor": 4
}
