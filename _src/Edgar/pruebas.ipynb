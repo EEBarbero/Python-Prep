{
 "cells": [
  {
   "cell_type": "code",
   "execution_count": 11,
   "metadata": {},
   "outputs": [
    {
     "name": "stdout",
     "output_type": "stream",
     "text": [
      "['c:\\\\Users\\\\Usuario\\\\Desktop\\\\Python-Prep\\\\_src\\\\Edgar', 'C:\\\\Program Files\\\\WindowsApps\\\\PythonSoftwareFoundation.Python.3.11_3.11.1264.0_x64__qbz5n2kfra8p0\\\\python311.zip', 'C:\\\\Program Files\\\\WindowsApps\\\\PythonSoftwareFoundation.Python.3.11_3.11.1264.0_x64__qbz5n2kfra8p0\\\\DLLs', 'C:\\\\Program Files\\\\WindowsApps\\\\PythonSoftwareFoundation.Python.3.11_3.11.1264.0_x64__qbz5n2kfra8p0\\\\Lib', 'C:\\\\Program Files\\\\WindowsApps\\\\PythonSoftwareFoundation.Python.3.11_3.11.1264.0_x64__qbz5n2kfra8p0', '', 'C:\\\\Users\\\\Usuario\\\\AppData\\\\Local\\\\Packages\\\\PythonSoftwareFoundation.Python.3.11_qbz5n2kfra8p0\\\\LocalCache\\\\local-packages\\\\Python311\\\\site-packages', 'C:\\\\Users\\\\Usuario\\\\AppData\\\\Local\\\\Packages\\\\PythonSoftwareFoundation.Python.3.11_qbz5n2kfra8p0\\\\LocalCache\\\\local-packages\\\\Python311\\\\site-packages\\\\win32', 'C:\\\\Users\\\\Usuario\\\\AppData\\\\Local\\\\Packages\\\\PythonSoftwareFoundation.Python.3.11_qbz5n2kfra8p0\\\\LocalCache\\\\local-packages\\\\Python311\\\\site-packages\\\\win32\\\\lib', 'C:\\\\Users\\\\Usuario\\\\AppData\\\\Local\\\\Packages\\\\PythonSoftwareFoundation.Python.3.11_qbz5n2kfra8p0\\\\LocalCache\\\\local-packages\\\\Python311\\\\site-packages\\\\Pythonwin', 'C:\\\\Program Files\\\\WindowsApps\\\\PythonSoftwareFoundation.Python.3.11_3.11.1264.0_x64__qbz5n2kfra8p0\\\\Lib\\\\site-packages']\n"
     ]
    }
   ],
   "source": [
    "import sys\n",
    "print(sys.path)"
   ]
  },
  {
   "cell_type": "code",
   "execution_count": 12,
   "metadata": {},
   "outputs": [
    {
     "name": "stdout",
     "output_type": "stream",
     "text": [
      "c:\\Users\\Usuario\\Desktop\\Python-Prep\\_src\\Edgar\n",
      "\n",
      " ['c:\\\\Users\\\\Usuario\\\\AppData\\\\Local\\\\Microsoft\\\\WindowsApps', 'c:\\\\Users\\\\Usuario\\\\AppData\\\\Local\\\\Packages\\\\PythonSoftwareFoundation.Python.3.11_qbz5n2kfra8p0\\\\LocalCache\\\\local-packages\\\\Python311\\\\Scripts', 'C:\\\\Windows\\\\system32', 'C:\\\\Windows', 'C:\\\\Windows\\\\System32\\\\Wbem', 'C:\\\\Windows\\\\System32\\\\WindowsPowerShell\\\\v1.0\\\\', 'C:\\\\Windows\\\\System32\\\\OpenSSH\\\\', 'C:\\\\Program Files\\\\dotnet\\\\', 'C:\\\\Program Files\\\\Git\\\\cmd', 'C:\\\\Users\\\\Usuario\\\\AppData\\\\Local\\\\Microsoft\\\\WindowsApps', 'C:\\\\Users\\\\Usuario\\\\AppData\\\\Local\\\\Programs\\\\Microsoft VS Code\\\\bin', 'C:\\\\Windows\\\\system32', 'C:\\\\Windows', 'C:\\\\Windows\\\\System32\\\\Wbem', 'C:\\\\Windows\\\\System32\\\\WindowsPowerShell\\\\v1.0\\\\', 'C:\\\\Windows\\\\System32\\\\OpenSSH\\\\', 'C:\\\\Program Files\\\\dotnet\\\\', 'C:\\\\Program Files\\\\Git\\\\cmd', 'C:\\\\Users\\\\Usuario\\\\AppData\\\\Local\\\\Microsoft\\\\WindowsApps', 'C:\\\\Users\\\\Usuario\\\\AppData\\\\Local\\\\Programs\\\\Microsoft VS Code\\\\bin']\n"
     ]
    }
   ],
   "source": [
    "import os\n",
    "\n",
    "print(os.getcwd())\n",
    "\n",
    "print('\\n',os.get_exec_path())"
   ]
  },
  {
   "cell_type": "code",
   "execution_count": 13,
   "metadata": {},
   "outputs": [],
   "source": [
    "def factorial(numero):\n",
    "    '''\n",
    "    Esta función devuelve el factorial del número pasado como parámetro.\n",
    "    En caso de que no sea de tipo entero y/o sea menor que 1, debe retornar nulo.\n",
    "    Recibe un argumento:\n",
    "        numero: Será el número con el que se calcule el factorial\n",
    "    Ej:\n",
    "        Factorial(4) debe retornar 24\n",
    "        Factorial(-2) debe retornar nulo\n",
    "    '''\n",
    "    #Tu código aca:\n",
    "    if(type(numero) != int or numero < 1):\n",
    "        return None\n",
    "    if(numero == 1):\n",
    "        return 1\n",
    "    resul  = numero * factorial(numero-1)\n",
    "    return resul"
   ]
  },
  {
   "cell_type": "code",
   "execution_count": 14,
   "metadata": {},
   "outputs": [
    {
     "name": "stdout",
     "output_type": "stream",
     "text": [
      "120\n"
     ]
    }
   ],
   "source": [
    "print(factorial(5))"
   ]
  },
  {
   "cell_type": "code",
   "execution_count": 15,
   "metadata": {},
   "outputs": [],
   "source": [
    "def EsPrimo(valor):\n",
    "    '''\n",
    "    Esta función devuelve el valor booleano True si el número reibido como parámetro es primo, de lo \n",
    "    contrario devuelve False..\n",
    "    En caso de que el parámetro no sea de tipo entero debe retornar nulo.\n",
    "    Recibe un argumento:\n",
    "        valor: Será el número a evaluar\n",
    "    Ej:\n",
    "        EsPrimo(7) debe retornar True\n",
    "        EsPrimo(8) debe retornar False\n",
    "    '''\n",
    "    #Tu código aca:\n",
    "    if(len([i for i in range(2,valor) if valor % i == 0]) == 0):\n",
    "       retorno = True\n",
    "    else:\n",
    "        retorno = False\n",
    "\n",
    "    return retorno"
   ]
  },
  {
   "cell_type": "code",
   "execution_count": 16,
   "metadata": {},
   "outputs": [
    {
     "name": "stdout",
     "output_type": "stream",
     "text": [
      "2 es primo\n",
      "3 es primo\n",
      "4 NO es primo\n",
      "5 es primo\n",
      "6 NO es primo\n",
      "7 es primo\n",
      "8 NO es primo\n",
      "9 NO es primo\n",
      "10 NO es primo\n",
      "11 es primo\n",
      "12 NO es primo\n",
      "13 es primo\n",
      "14 NO es primo\n",
      "15 NO es primo\n",
      "16 NO es primo\n",
      "17 es primo\n",
      "18 NO es primo\n",
      "19 es primo\n",
      "20 NO es primo\n",
      "21 NO es primo\n",
      "22 NO es primo\n",
      "23 es primo\n",
      "24 NO es primo\n",
      "25 NO es primo\n",
      "26 NO es primo\n",
      "27 NO es primo\n",
      "28 NO es primo\n",
      "29 es primo\n",
      "30 NO es primo\n"
     ]
    }
   ],
   "source": [
    "for i in range(2,31):\n",
    "    if(EsPrimo(i)):\n",
    "        print(i,'es primo')\n",
    "    else:\n",
    "        print(i,'NO es primo')"
   ]
  },
  {
   "cell_type": "code",
   "execution_count": 17,
   "metadata": {},
   "outputs": [],
   "source": [
    "class Animal:\n",
    "    def __init__(self,especie,color):\n",
    "        self.especie = especie\n",
    "        self.color = color\n",
    "        self.edad = 0\n",
    "\n",
    "    def CumplirAnios(self):\n",
    "        self.edad += 1\n",
    "        return(self.edad)"
   ]
  },
  {
   "cell_type": "code",
   "execution_count": 18,
   "metadata": {},
   "outputs": [],
   "source": [
    "def ClaseAnimal(especie, color):\n",
    "    '''\n",
    "    Esta función devuelve un objeto instanciado de la clase Animal, \n",
    "    la cual debe tener los siguientes atributos:\n",
    "        Edad    (Un valor de tipo de dato entero, que debe inicializarse en cero)\n",
    "        Especie (Un valor de tipo de dato string)\n",
    "        Color   (Un valor de tipo de dato string)\n",
    "    y debe tener el siguiente método:\n",
    "        CumplirAnios  (este método debe sumar uno al atributo Edad y debe devolver ese valor)\n",
    "    Recibe dos argumento:\n",
    "        especie: Dato que se asignará al atributo Especie del objeto de la clase Animal\n",
    "        color: Dato que se asignará al atributo Color del objeto de la clase Animal\n",
    "    Ej:\n",
    "        a = ClaseAnimal('perro','blanco')\n",
    "        a.CumpliAnios() -> debe devolver 1\n",
    "        a.CumpliAnios() -> debe devolver 2\n",
    "        a.CumpliAnios() -> debe devolver 3\n",
    "    '''\n",
    "    #Tu código aca:\n",
    "    return Animal(especie,color)"
   ]
  },
  {
   "cell_type": "code",
   "execution_count": 19,
   "metadata": {},
   "outputs": [],
   "source": [
    "a = ClaseAnimal('perro','blanco')"
   ]
  },
  {
   "cell_type": "code",
   "execution_count": 20,
   "metadata": {},
   "outputs": [
    {
     "data": {
      "text/plain": [
       "__main__.Animal"
      ]
     },
     "execution_count": 20,
     "metadata": {},
     "output_type": "execute_result"
    }
   ],
   "source": [
    "type(a)"
   ]
  },
  {
   "cell_type": "code",
   "execution_count": 21,
   "metadata": {},
   "outputs": [
    {
     "name": "stdout",
     "output_type": "stream",
     "text": [
      "perro\n",
      "blanco\n",
      "0\n"
     ]
    }
   ],
   "source": [
    "print(a.especie)\n",
    "print(a.color)\n",
    "print(a.edad)"
   ]
  },
  {
   "cell_type": "code",
   "execution_count": 22,
   "metadata": {},
   "outputs": [
    {
     "data": {
      "text/plain": [
       "1"
      ]
     },
     "execution_count": 22,
     "metadata": {},
     "output_type": "execute_result"
    }
   ],
   "source": [
    "a.CumplirAnios()"
   ]
  },
  {
   "cell_type": "code",
   "execution_count": 23,
   "metadata": {},
   "outputs": [
    {
     "data": {
      "text/plain": [
       "2"
      ]
     },
     "execution_count": 23,
     "metadata": {},
     "output_type": "execute_result"
    }
   ],
   "source": [
    "a.CumplirAnios()"
   ]
  },
  {
   "cell_type": "code",
   "execution_count": 24,
   "metadata": {},
   "outputs": [
    {
     "data": {
      "text/plain": [
       "3"
      ]
     },
     "execution_count": 24,
     "metadata": {},
     "output_type": "execute_result"
    }
   ],
   "source": [
    "a.CumplirAnios()"
   ]
  },
  {
   "cell_type": "code",
   "execution_count": 25,
   "metadata": {},
   "outputs": [
    {
     "data": {
      "text/plain": [
       "3"
      ]
     },
     "execution_count": 25,
     "metadata": {},
     "output_type": "execute_result"
    }
   ],
   "source": [
    "a = ClaseAnimal('perro','negro')\n",
    "a.CumplirAnios()\n",
    "a.CumplirAnios()\n",
    "a.CumplirAnios()"
   ]
  },
  {
   "cell_type": "code",
   "execution_count": null,
   "metadata": {},
   "outputs": [],
   "source": [
    "#############################################################\n",
    "#############################################################\n",
    "#############################################################"
   ]
  },
  {
   "cell_type": "code",
   "execution_count": 3,
   "metadata": {},
   "outputs": [],
   "source": [
    "def multiplico_matriz(matriz1,matriz2):\n",
    "    '''\n",
    "    Cada matriz (matriz1 y matriz2) es una lista que contiene una lista por cada fila\n",
    "        Ejemplos:\n",
    "            [[1, 2],[-1, 0],[-3, -1]]\n",
    "            [[2, 0, 1], [-5, 2, 3]]\n",
    "            [[-8, 4, 7], [-2, 0, -1], [-1, -2, -6]]\n",
    "    '''\n",
    "    if(len(matriz1[0]) != len(matriz2)):\n",
    "        print(\"La cantidad de columnas de la primer matriz debe ser igual a la cantidad de filas de la segunda\")\n",
    "        retorno = None\n",
    "    else:\n",
    "        matriz_multi = []\n",
    "        for fila in range(0,len(matriz1)):\n",
    "            fila_multi = []\n",
    "            for columna in range(0,len(matriz2[0])):\n",
    "                fila_multi.append(sum([valor1*matriz2[i][columna] for i,valor1 in enumerate(matriz1[fila])]))\n",
    "            matriz_multi.append(fila_multi)\n",
    "        retorno = matriz_multi\n",
    "    return retorno"
   ]
  },
  {
   "cell_type": "code",
   "execution_count": 4,
   "metadata": {},
   "outputs": [],
   "source": [
    "m1 = [[1,2],[-1,0],[-3,-1]]\n",
    "m2 = [[2,0,1],[-5,2,3]]"
   ]
  },
  {
   "cell_type": "code",
   "execution_count": 5,
   "metadata": {},
   "outputs": [
    {
     "name": "stdout",
     "output_type": "stream",
     "text": [
      "[[1, 2], [-1, 0], [-3, -1]]  x  [[2, 0, 1], [-5, 2, 3]]  =  [[-8, 4, 7], [-2, 0, -1], [-1, -2, -6]]\n"
     ]
    }
   ],
   "source": [
    "print(m1,' x ',m2,' = ',multiplico_matriz(m1,m2))"
   ]
  },
  {
   "cell_type": "code",
   "execution_count": 6,
   "metadata": {},
   "outputs": [
    {
     "name": "stdout",
     "output_type": "stream",
     "text": [
      "[[5, 3, -4, -2], [8, -1, 0, -3]]  x  [[1, 4, 0], [-5, 3, 7], [0, -9, 5], [5, 1, 4]]  =  [[-20, 63, -7], [-2, 26, -19]]\n"
     ]
    }
   ],
   "source": [
    "m1 = [[5,3,-4,-2],[8,-1,0,-3]]\n",
    "m2 = [[1,4,0],[-5,3,7],[0,-9,5],[5,1,4]]\n",
    "\n",
    "print(m1,' x ',m2,' = ',multiplico_matriz(m1,m2))"
   ]
  },
  {
   "cell_type": "code",
   "execution_count": 7,
   "metadata": {},
   "outputs": [
    {
     "name": "stdout",
     "output_type": "stream",
     "text": [
      "[[-2, 3], [-5, 1], [0, -6]]  x  [[1, -5, 0], [-8, 9, 2]]  =  [[-26, 37, 6], [-13, 34, 2], [48, -54, -12]]\n"
     ]
    }
   ],
   "source": [
    "m1 = [[-2,3],[-5,1],[0,-6]]\n",
    "m2 = [[1,-5,0],[-8,9,2]]\n",
    "\n",
    "print(m1,' x ',m2,' = ',multiplico_matriz(m1,m2))"
   ]
  },
  {
   "cell_type": "code",
   "execution_count": 8,
   "metadata": {},
   "outputs": [],
   "source": [
    "def multiplico_matriz_2(matriz1,matriz2):\n",
    "    '''\n",
    "    Cada matriz (matriz1 y matriz2) es una lista que contiene una lista por cada fila\n",
    "        Ejemplos:\n",
    "            [[1, 2],[-1, 0],[-3, -1]]\n",
    "            [[2, 0, 1], [-5, 2, 3]]\n",
    "            [[-8, 4, 7], [-2, 0, -1], [-1, -2, -6]]\n",
    "    '''\n",
    "    if(len(matriz1[0]) != len(matriz2)):\n",
    "        print(\"La cantidad de columnas de la primer matriz debe ser igual a la cantidad de filas de la segunda\")\n",
    "        retorno = None\n",
    "    else:\n",
    "        retorno = [[sum([valor1*matriz2[i][columna] for i,valor1 in enumerate(matriz1[fila])]) for columna in range(0,len(matriz2[0]))] for fila in range(0,len(matriz1))]\n",
    "    return retorno"
   ]
  },
  {
   "cell_type": "code",
   "execution_count": 9,
   "metadata": {},
   "outputs": [
    {
     "name": "stdout",
     "output_type": "stream",
     "text": [
      "[[-2, 3], [-5, 1], [0, -6]]  x  [[1, -5, 0], [-8, 9, 2]]  =  [[-26, 37, 6], [-13, 34, 2], [48, -54, -12]]\n"
     ]
    }
   ],
   "source": [
    "m1 = [[-2,3],[-5,1],[0,-6]]\n",
    "m2 = [[1,-5,0],[-8,9,2]]\n",
    "\n",
    "print(m1,' x ',m2,' = ',multiplico_matriz_2(m1,m2))"
   ]
  },
  {
   "cell_type": "code",
   "execution_count": null,
   "metadata": {},
   "outputs": [],
   "source": [
    "#############################################################\n",
    "#############################################################\n",
    "#############################################################"
   ]
  },
  {
   "cell_type": "code",
   "execution_count": 12,
   "metadata": {},
   "outputs": [
    {
     "name": "stdout",
     "output_type": "stream",
     "text": [
      "{'a': 1, 'b': 2, 'c': 3, 'd': 4}\n"
     ]
    }
   ],
   "source": [
    "x = {\"a\":1,\"b\":2,\"c\":3,\"d\":4}\n",
    "\n",
    "print(x)"
   ]
  },
  {
   "cell_type": "code",
   "execution_count": 17,
   "metadata": {},
   "outputs": [
    {
     "name": "stdout",
     "output_type": "stream",
     "text": [
      "a : 1\n",
      "b : 2\n",
      "c : 3\n",
      "d : 4\n"
     ]
    }
   ],
   "source": [
    "for i in x:\n",
    "    print(i,\":\",x[i])"
   ]
  },
  {
   "cell_type": "code",
   "execution_count": 21,
   "metadata": {},
   "outputs": [
    {
     "name": "stdout",
     "output_type": "stream",
     "text": [
      "a : 1\n",
      "b : 2\n",
      "c : 3\n",
      "d : 4\n"
     ]
    },
    {
     "data": {
      "text/plain": [
       "[None, None, None, None]"
      ]
     },
     "execution_count": 21,
     "metadata": {},
     "output_type": "execute_result"
    }
   ],
   "source": [
    "[print(i,':',x[i]) for i in x]"
   ]
  }
 ],
 "metadata": {
  "kernelspec": {
   "display_name": "Python 3",
   "language": "python",
   "name": "python3"
  },
  "language_info": {
   "codemirror_mode": {
    "name": "ipython",
    "version": 3
   },
   "file_extension": ".py",
   "mimetype": "text/x-python",
   "name": "python",
   "nbconvert_exporter": "python",
   "pygments_lexer": "ipython3",
   "version": "3.11.4"
  },
  "orig_nbformat": 4
 },
 "nbformat": 4,
 "nbformat_minor": 2
}
