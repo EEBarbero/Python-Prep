{
 "cells": [
  {
   "attachments": {},
   "cell_type": "markdown",
   "metadata": {},
   "source": [
    "## Clases y Programación Orientada a Objetos"
   ]
  },
  {
   "attachments": {},
   "cell_type": "markdown",
   "metadata": {},
   "source": [
    "1) Crear la clase vehículo que contenga los atributos:<br>\n",
    "Color<br>\n",
    "Si es moto, auto, camioneta ó camión<br>\n",
    "Cilindrada del motor"
   ]
  },
  {
   "cell_type": "code",
   "execution_count": 1,
   "metadata": {},
   "outputs": [],
   "source": [
    "class vehiculo:\n",
    "    def __init__(self,color,tipo,cilindrada):\n",
    "        self.color = color\n",
    "        self.tipo = tipo\n",
    "        self.cilindrada = cilindrada"
   ]
  },
  {
   "attachments": {},
   "cell_type": "markdown",
   "metadata": {},
   "source": [
    "2) A la clase Vehiculo creada en el punto 1, agregar los siguientes métodos:<br>\n",
    "Acelerar<br>\n",
    "Frenar<br>\n",
    "Doblar<br>"
   ]
  },
  {
   "cell_type": "code",
   "execution_count": 2,
   "metadata": {},
   "outputs": [],
   "source": [
    "class vehiculo:\n",
    "    def __init__(self,color,tipo,cilindrada):\n",
    "        self.color = color\n",
    "        self.tipo = tipo\n",
    "        self.cilindrada = cilindrada\n",
    "        self.velocidad =0\n",
    "        self.direccion = 0\n",
    "\n",
    "    def acelerar(self,velo):\n",
    "        self.velocidad += velo\n",
    "    \n",
    "    def frenar(self,frena):\n",
    "        self.velocidad -= frena\n",
    "\n",
    "    def doblar(self,direc):\n",
    "        self.direccion += direc"
   ]
  },
  {
   "attachments": {},
   "cell_type": "markdown",
   "metadata": {},
   "source": [
    "3) Instanciar 3 objetos de la clase vehículo y ejecutar sus métodos, probar luego el resultado"
   ]
  },
  {
   "cell_type": "code",
   "execution_count": 13,
   "metadata": {},
   "outputs": [
    {
     "name": "stdout",
     "output_type": "stream",
     "text": [
      "rojo auto 1100 0 0\n",
      "azul moto 150 0 0\n",
      "rojo camión 9330 0 0\n",
      "---------------\n",
      "rojo auto 1100 10 90\n",
      "azul moto 150 8 -90\n",
      "rojo camión 9330 7 -60\n"
     ]
    }
   ],
   "source": [
    "auto1 = vehiculo(\"rojo\",\"auto\",1100)\n",
    "moto1 = vehiculo(\"azul\",\"moto\",150)\n",
    "camion1 = vehiculo(\"rojo\",\"camión\",9330)\n",
    "\n",
    "print(auto1.color,auto1.tipo,auto1.cilindrada,auto1.velocidad,auto1.direccion)\n",
    "print(moto1.color,moto1.tipo,moto1.cilindrada,moto1.velocidad,moto1.direccion)\n",
    "print(camion1.color,camion1.tipo,camion1.cilindrada,camion1.velocidad,camion1.direccion)\n",
    "\n",
    "auto1.acelerar(20)\n",
    "auto1.frenar(10)\n",
    "auto1.doblar(90)\n",
    "\n",
    "moto1.acelerar(10)\n",
    "moto1.frenar(2)\n",
    "moto1.doblar(-90)\n",
    "\n",
    "camion1.acelerar(15)\n",
    "camion1.frenar(8)\n",
    "camion1.doblar(-60)\n",
    "\n",
    "print(\"---------------\")\n",
    "print(auto1.color,auto1.tipo,auto1.cilindrada,auto1.velocidad,auto1.direccion)\n",
    "print(moto1.color,moto1.tipo,moto1.cilindrada,moto1.velocidad,moto1.direccion)\n",
    "print(camion1.color,camion1.tipo,camion1.cilindrada,camion1.velocidad,camion1.direccion)"
   ]
  },
  {
   "attachments": {},
   "cell_type": "markdown",
   "metadata": {},
   "source": [
    "4) Agregar a la clase Vehiculo, un método que muestre su estado, es decir, a que velocidad se encuentra y su dirección. Y otro método que muestre color, tipo y cilindrada"
   ]
  },
  {
   "cell_type": "code",
   "execution_count": 16,
   "metadata": {},
   "outputs": [],
   "source": [
    "class vehiculo:\n",
    "    def __init__(self,color,tipo,cilindrada):\n",
    "        self.color = color\n",
    "        self.tipo = tipo\n",
    "        self.cilindrada = cilindrada\n",
    "        self.velocidad =0\n",
    "        self.direccion = 0\n",
    "\n",
    "    def acelerar(self,velo):\n",
    "        self.velocidad += velo\n",
    "    \n",
    "    def frenar(self,frena):\n",
    "        self.velocidad -= frena\n",
    "\n",
    "    def doblar(self,direc):\n",
    "        self.direccion += direc\n",
    "\n",
    "    def estado(self):\n",
    "        print(\"Velocidad: \",self.velocidad,\" - Dirección: \",self.direccion)\n",
    "\n",
    "    def sobremi(self):\n",
    "        print(\"Color: \",self.color,\" - Tipo: \",self.tipo,\" - Cilindrada: \",self.cilindrada)"
   ]
  },
  {
   "cell_type": "code",
   "execution_count": 18,
   "metadata": {},
   "outputs": [
    {
     "name": "stdout",
     "output_type": "stream",
     "text": [
      "Color:  gris  - Tipo:  auto  - Cilindrada:  1050\n",
      "Velocidad:  0  - Dirección:  0\n"
     ]
    }
   ],
   "source": [
    "a1 = vehiculo(\"gris\",\"auto\",1050)\n",
    "\n",
    "a1.sobremi()\n",
    "a1.estado()"
   ]
  },
  {
   "cell_type": "code",
   "execution_count": 19,
   "metadata": {},
   "outputs": [
    {
     "name": "stdout",
     "output_type": "stream",
     "text": [
      "Velocidad:  50  - Dirección:  0\n",
      "Velocidad:  30  - Dirección:  90\n",
      "Velocidad:  45  - Dirección:  90\n"
     ]
    }
   ],
   "source": [
    "a1.acelerar(50)\n",
    "a1.estado()\n",
    "\n",
    "a1.frenar(20)\n",
    "a1.doblar(90)\n",
    "a1.estado()\n",
    "\n",
    "a1.acelerar(15)\n",
    "a1.estado()"
   ]
  },
  {
   "attachments": {},
   "cell_type": "markdown",
   "metadata": {},
   "source": [
    "5) Crear una clase que permita utilizar las funciones creadas en la práctica del módulo 7<br>\n",
    "Verificar Primo<br>\n",
    "Valor modal<br>\n",
    "Conversión grados<br>\n",
    "Factorial<br>"
   ]
  },
  {
   "cell_type": "code",
   "execution_count": 43,
   "metadata": {},
   "outputs": [],
   "source": [
    "class operaciones:\n",
    "    def __init__(self) -> None:\n",
    "        pass\n",
    "\n",
    "    def verifica_Primo(self,numero):\n",
    "        es_primo = True\n",
    "        for i in range(2,numero):\n",
    "            if(numero % i == 0):\n",
    "                es_primo = False\n",
    "                break\n",
    "        return es_primo\n",
    "    \n",
    "    def valor_modal(self,lista,menor = True): \n",
    "        # menor == True-> si hay +1 nro con igual frecuencia mayor devuelve el MENOR\n",
    "        #          False-> si hay +1 nro con igual frecuencia mayor devuelve el MAYOR\n",
    "\n",
    "        if(len(lista) == 0):\n",
    "            return None\n",
    "\n",
    "        if(menor == True):\n",
    "            lista.sort()\n",
    "        else:\n",
    "            lista.sort(reverse=True)\n",
    "\n",
    "        l_numeros = []\n",
    "        l_cantidad = []\n",
    "\n",
    "        for elemento in lista:\n",
    "            if(elemento in l_numeros):\n",
    "                posicion = l_numeros.index(elemento)\n",
    "                l_cantidad[posicion] += 1\n",
    "            else:\n",
    "                l_numeros.append(elemento)\n",
    "                l_cantidad.append(1)\n",
    "        \n",
    "        moda = l_cantidad[0]\n",
    "        nro_moda = l_numeros[0]\n",
    "\n",
    "        for i, elemento in enumerate(l_cantidad):\n",
    "            if(elemento > moda):\n",
    "                moda = elemento\n",
    "                nro_moda = l_numeros[i]\n",
    "\n",
    "        return moda,nro_moda\n",
    "    \n",
    "    def convierte_grados(self,valor,origen,destino): \n",
    "        #origen/destino aceptan \"c\", \"f\" o \"k\" para las escalas de celsius, farenheit, kelvin\n",
    "\n",
    "        origen = origen.lower()\n",
    "        destino = destino.lower()\n",
    "\n",
    "        valor_convertido = None\n",
    "\n",
    "        if(origen != \"c\" and origen != \"f\" and origen != \"k\"):\n",
    "            print(\"El origen debe ser 'c' 'f' o 'k' (celsius, farenheit, kelvin)\")\n",
    "\n",
    "        if(destino != \"c\" and destino != \"f\" and destino != \"k\"):\n",
    "            print(\"El destino debe ser 'c' 'f' o 'k' (celsius, farenheit, kelvin)\")\n",
    "\n",
    "        if(origen==\"c\"):\n",
    "            if(destino==\"c\"):\n",
    "                valor_convertido=valor\n",
    "            elif(destino==\"f\"):\n",
    "                valor_convertido=valor*9/5+32\n",
    "            else:\n",
    "                valor_convertido=valor+273.15\n",
    "        elif(origen==\"f\"):\n",
    "            if(destino==\"f\"):\n",
    "                valor_convertido=valor\n",
    "            elif(destino==\"c\"):\n",
    "                valor_convertido=(valor-32)*5/9\n",
    "            else:\n",
    "                valor_convertido=(valor-32)*5/9+273.15\n",
    "        else:\n",
    "            if(destino==\"k\"):\n",
    "                valor_convertido=valor\n",
    "            elif(destino==\"c\"):\n",
    "                valor_convertido=valor-273.15\n",
    "            else:\n",
    "                valor_convertido=(valor-273.15)*9/5+32\n",
    "        return valor_convertido\n",
    "\n",
    "    def factorial(self,numero):\n",
    "        if(type(numero)!=int):\n",
    "            resultado = \"El argumento debe ser un número entero\"\n",
    "        elif(numero<0):\n",
    "            resultado = \"El número debe ser positivo\"\n",
    "        elif(numero<=1):\n",
    "            resultado = 1\n",
    "        else:\n",
    "            resultado= numero * self.factorial(numero-1)\n",
    "        return resultado"
   ]
  },
  {
   "attachments": {},
   "cell_type": "markdown",
   "metadata": {},
   "source": [
    "6) Probar las funciones incorporadas en la clase del punto 5"
   ]
  },
  {
   "cell_type": "code",
   "execution_count": 44,
   "metadata": {},
   "outputs": [],
   "source": [
    "# Creación de la instancia  a1\n",
    "a1 =operaciones()"
   ]
  },
  {
   "cell_type": "code",
   "execution_count": 26,
   "metadata": {},
   "outputs": [
    {
     "name": "stdout",
     "output_type": "stream",
     "text": [
      "True\n",
      "False\n",
      "True\n"
     ]
    }
   ],
   "source": [
    "# Prueba de verifica_Primo\n",
    "print(a1.verifica_Primo(2)) # True\n",
    "\n",
    "print(a1.verifica_Primo(8)) # False\n",
    "\n",
    "print(a1.verifica_Primo(5)) # True"
   ]
  },
  {
   "cell_type": "code",
   "execution_count": 29,
   "metadata": {},
   "outputs": [
    {
     "data": {
      "text/plain": [
       "(3, 1)"
      ]
     },
     "execution_count": 29,
     "metadata": {},
     "output_type": "execute_result"
    }
   ],
   "source": [
    "# Prueba de valor_modal\n",
    "\n",
    "lista1 = [1,3,5,8,13,21,3,8,1,5,1] # (3,1)\n",
    "\n",
    "a1.valor_modal(lista1)"
   ]
  },
  {
   "cell_type": "code",
   "execution_count": 33,
   "metadata": {},
   "outputs": [
    {
     "name": "stdout",
     "output_type": "stream",
     "text": [
      "0\n",
      "32.0\n",
      "273.15\n",
      "-17.77777777777778\n",
      "0\n",
      "255.3722222222222\n",
      "-273.15\n",
      "-459.66999999999996\n",
      "0\n"
     ]
    }
   ],
   "source": [
    "\n",
    "# Prueba de convierte_grados\n",
    "\n",
    "print(a1.convierte_grados(0,'c','c'))\n",
    "print(a1.convierte_grados(0,'c','f'))\n",
    "print(a1.convierte_grados(0,'c','k'))\n",
    "\n",
    "print(a1.convierte_grados(0,'f','c'))\n",
    "print(a1.convierte_grados(0,'f','f'))\n",
    "print(a1.convierte_grados(0,'f','k'))\n",
    "\n",
    "print(a1.convierte_grados(0,'k','c'))\n",
    "print(a1.convierte_grados(0,'k','f'))\n",
    "print(a1.convierte_grados(0,'k','k'))"
   ]
  },
  {
   "cell_type": "code",
   "execution_count": 45,
   "metadata": {},
   "outputs": [
    {
     "name": "stdout",
     "output_type": "stream",
     "text": [
      "120\n"
     ]
    }
   ],
   "source": [
    "# Prueba de factorial\n",
    "print (a1.factorial(5))"
   ]
  },
  {
   "attachments": {},
   "cell_type": "markdown",
   "metadata": {},
   "source": [
    "7) Es necesario que la clase creada en el punto 5 contenga una lista, sobre la cual se apliquen las funciones incorporadas"
   ]
  },
  {
   "cell_type": "code",
   "execution_count": 65,
   "metadata": {},
   "outputs": [],
   "source": [
    "class operaciones:\n",
    "    def __init__(self,lista) -> None:\n",
    "        self.lista = lista\n",
    "    \n",
    "    def verifica_Primo(self):\n",
    "        for elemento in self.lista:\n",
    "            if(type(elemento) != int):\n",
    "                print(f\"{elemento} no se analiza por no ser un número entero\")\n",
    "                break\n",
    "            if(self.__verifica_Primo(elemento)):\n",
    "                print(f\"El número {elemento} es primo\")\n",
    "            else:\n",
    "                print(f\"El número {elemento} NO es primo\")\n",
    "\n",
    "    def valor_modal(self,menor = True):\n",
    "        frecuencia, numero = self.__valor_modal(self,menor)\n",
    "        print(f\"El número más frecuente es {numero} y se repite {frecuencia} veces\")\n",
    "\n",
    "    def convierte_grados(self,origen,destino):\n",
    "        letras = ('c','f','k')\n",
    "        escalas = ('Celsius','Fahrenheit','Kelvin')\n",
    "\n",
    "        for elemento in self.lista:\n",
    "            ori = escalas[letras.index(origen)]\n",
    "            des = escalas[letras.index(destino)]\n",
    "            print(elemento,\" en grados \",ori,\" equivalen a \",self.__convierte_grados(elemento,origen,destino),\" grados \"+des)\n",
    "        \n",
    "    def factorial(self):\n",
    "        for elemento in self.lista:\n",
    "            print(f\"El factorial de {elemento} es {self.__factorial(elemento)}\")\n",
    "\n",
    "# ========================================\n",
    "    def __verifica_Primo(self,numero):\n",
    "        es_primo = True\n",
    "        for i in range(2,numero):\n",
    "            if(numero % i == 0):\n",
    "                es_primo = False\n",
    "                break\n",
    "        return es_primo\n",
    "    \n",
    "    def __valor_modal(self,lista,menor): \n",
    "        # menor == True-> si hay +1 nro con igual frecuencia mayor devuelve el MENOR\n",
    "        #          False-> si hay +1 nro con igual frecuencia mayor devuelve el MAYOR\n",
    "\n",
    "        if(len(self.lista) == 0):\n",
    "            return None\n",
    "\n",
    "        if(menor == True):\n",
    "            self.lista.sort()\n",
    "        else:\n",
    "            self.lista.sort(reverse=True)\n",
    "\n",
    "        l_numeros = []\n",
    "        l_cantidad = []\n",
    "\n",
    "        for elemento in self.lista:\n",
    "            if(elemento in l_numeros):\n",
    "                posicion = l_numeros.index(elemento)\n",
    "                l_cantidad[posicion] += 1\n",
    "            else:\n",
    "                l_numeros.append(elemento)\n",
    "                l_cantidad.append(1)\n",
    "        \n",
    "        moda = l_cantidad[0]\n",
    "        nro_moda = l_numeros[0]\n",
    "\n",
    "        for i, elemento in enumerate(l_cantidad):\n",
    "            if(elemento > moda):\n",
    "                moda = elemento\n",
    "                nro_moda = l_numeros[i]\n",
    "\n",
    "        return moda,nro_moda\n",
    "    \n",
    "    def __convierte_grados(self,valor,origen,destino): \n",
    "        #origen/destino aceptan \"c\", \"f\" o \"k\" para las escalas de celsius, farenheit, kelvin\n",
    "\n",
    "        origen = origen.lower()\n",
    "        destino = destino.lower()\n",
    "\n",
    "        valor_convertido = None\n",
    "\n",
    "        if(origen != \"c\" and origen != \"f\" and origen != \"k\"):\n",
    "            print(\"El origen debe ser 'c' 'f' o 'k' (celsius, farenheit, kelvin)\")\n",
    "\n",
    "        if(destino != \"c\" and destino != \"f\" and destino != \"k\"):\n",
    "            print(\"El destino debe ser 'c' 'f' o 'k' (celsius, farenheit, kelvin)\")\n",
    "\n",
    "        if(origen==\"c\"):\n",
    "            if(destino==\"c\"):\n",
    "                valor_convertido=valor\n",
    "            elif(destino==\"f\"):\n",
    "                valor_convertido=valor*9/5+32\n",
    "            else:\n",
    "                valor_convertido=valor+273.15\n",
    "        elif(origen==\"f\"):\n",
    "            if(destino==\"f\"):\n",
    "                valor_convertido=valor\n",
    "            elif(destino==\"c\"):\n",
    "                valor_convertido=(valor-32)*5/9\n",
    "            else:\n",
    "                valor_convertido=(valor-32)*5/9+273.15\n",
    "        else:\n",
    "            if(destino==\"k\"):\n",
    "                valor_convertido=valor\n",
    "            elif(destino==\"c\"):\n",
    "                valor_convertido=valor-273.15\n",
    "            else:\n",
    "                valor_convertido=(valor-273.15)*9/5+32\n",
    "        return valor_convertido\n",
    "\n",
    "    def __factorial(self,numero):\n",
    "        if(type(numero)!=int):\n",
    "            resultado = \"El argumento debe ser un número entero\"\n",
    "        elif(numero<0):\n",
    "            resultado = \"El número debe ser positivo\"\n",
    "        elif(numero<=1):\n",
    "            resultado = 1\n",
    "        else:\n",
    "            resultado= numero * self.__factorial(numero-1)\n",
    "        return resultado"
   ]
  },
  {
   "cell_type": "code",
   "execution_count": 13,
   "metadata": {},
   "outputs": [],
   "source": [
    "class operaciones:\n",
    "    def __init__(self,lista) -> None:\n",
    "        self.lista = lista\n",
    "    \n",
    "    def verifica_Primo(self):\n",
    "        for elemento in self.lista:\n",
    "            if(type(elemento) != int):\n",
    "                print(f\"{elemento} no se analiza por no ser un número entero\")\n",
    "                break\n",
    "            if(self.__verifica_Primo(elemento)):\n",
    "                print(f\"El número {elemento} es primo\")\n",
    "            else:\n",
    "                print(f\"El número {elemento} NO es primo\")\n",
    "\n",
    "    def valor_modal(self,menor = True):\n",
    "        frecuencia, numero = self.__valor_modal(self,menor)\n",
    "        print(f\"El número más frecuente es {numero} y se repite {frecuencia} veces\")\n",
    "\n",
    "    def convierte_grados(self,origen,destino):\n",
    "        escalas = {'c':'Celsius','f':'Fahrenheit','k':'Kelvin'}\n",
    "\n",
    "        for elemento in self.lista:\n",
    "            print(f\"{elemento} en grados {escalas[origen]} equivalen a {self.__convierte_grados(elemento,origen,destino)} grados {escalas[destino]}\")\n",
    "        \n",
    "    def factorial(self):\n",
    "        for elemento in self.lista:\n",
    "            print(f\"El factorial de {elemento} es {self.__factorial(elemento)}\")\n",
    "\n",
    "# ========================================\n",
    "    def __verifica_Primo(self,numero):\n",
    "        es_primo = True\n",
    "        for i in range(2,numero):\n",
    "            if(numero % i == 0):\n",
    "                es_primo = False\n",
    "                break\n",
    "        return es_primo\n",
    "    \n",
    "    def __valor_modal(self,lista,menor): \n",
    "        # menor == True-> si hay +1 nro con igual frecuencia mayor devuelve el MENOR\n",
    "        #          False-> si hay +1 nro con igual frecuencia mayor devuelve el MAYOR\n",
    "\n",
    "        if(len(self.lista) == 0):\n",
    "            return None\n",
    "\n",
    "        if(menor == True):\n",
    "            self.lista.sort()\n",
    "        else:\n",
    "            self.lista.sort(reverse=True)\n",
    "\n",
    "        l_numeros = []\n",
    "        l_cantidad = []\n",
    "\n",
    "        for elemento in self.lista:\n",
    "            if(elemento in l_numeros):\n",
    "                posicion = l_numeros.index(elemento)\n",
    "                l_cantidad[posicion] += 1\n",
    "            else:\n",
    "                l_numeros.append(elemento)\n",
    "                l_cantidad.append(1)\n",
    "        \n",
    "        moda = l_cantidad[0]\n",
    "        nro_moda = l_numeros[0]\n",
    "\n",
    "        for i, elemento in enumerate(l_cantidad):\n",
    "            if(elemento > moda):\n",
    "                moda = elemento\n",
    "                nro_moda = l_numeros[i]\n",
    "\n",
    "        return moda,nro_moda\n",
    "    \n",
    "    def __convierte_grados(self,valor,origen,destino): \n",
    "        #origen/destino aceptan \"c\", \"f\" o \"k\" para las escalas de celsius, farenheit, kelvin\n",
    "\n",
    "        origen = origen.lower()\n",
    "        destino = destino.lower()\n",
    "\n",
    "        if(origen != \"c\" and origen != \"f\" and origen != \"k\"):\n",
    "            print(\"El origen debe ser 'c' 'f' o 'k' (celsius, farenheit, kelvin)\")\n",
    "\n",
    "        if(destino != \"c\" and destino != \"f\" and destino != \"k\"):\n",
    "            print(\"El destino debe ser 'c' 'f' o 'k' (celsius, farenheit, kelvin)\")\n",
    "\n",
    "        if(origen==\"c\"):\n",
    "            if(destino==\"c\"):\n",
    "                valor_convertido=valor\n",
    "            elif(destino==\"f\"):\n",
    "                valor_convertido=valor*9/5+32\n",
    "            else:\n",
    "                valor_convertido=valor+273.15\n",
    "        elif(origen==\"f\"):\n",
    "            if(destino==\"f\"):\n",
    "                valor_convertido=valor\n",
    "            elif(destino==\"c\"):\n",
    "                valor_convertido=(valor-32)*5/9\n",
    "            else:\n",
    "                valor_convertido=(valor-32)*5/9+273.15\n",
    "        else:\n",
    "            if(destino==\"k\"):\n",
    "                valor_convertido=valor\n",
    "            elif(destino==\"c\"):\n",
    "                valor_convertido=valor-273.15\n",
    "            else:\n",
    "                valor_convertido=(valor-273.15)*9/5+32\n",
    "        return valor_convertido\n",
    "\n",
    "    def __factorial(self,numero):\n",
    "        if(type(numero)!=int):\n",
    "            resultado = \"El argumento debe ser un número entero\"\n",
    "        elif(numero<0):\n",
    "            resultado = \"El número debe ser positivo\"\n",
    "        elif(numero<=1):\n",
    "            resultado = 1\n",
    "        else:\n",
    "            resultado= numero * self.__factorial(numero-1)\n",
    "        return resultado"
   ]
  },
  {
   "cell_type": "code",
   "execution_count": 14,
   "metadata": {},
   "outputs": [],
   "source": [
    "h = operaciones([1,1,2,5,8,8,9,11,15,16,16,16,18,20])"
   ]
  },
  {
   "cell_type": "code",
   "execution_count": 15,
   "metadata": {},
   "outputs": [
    {
     "name": "stdout",
     "output_type": "stream",
     "text": [
      "1 en grados Celsius equivalen a 33.8 grados Fahrenheit\n",
      "1 en grados Celsius equivalen a 33.8 grados Fahrenheit\n",
      "2 en grados Celsius equivalen a 35.6 grados Fahrenheit\n",
      "5 en grados Celsius equivalen a 41.0 grados Fahrenheit\n",
      "8 en grados Celsius equivalen a 46.4 grados Fahrenheit\n",
      "8 en grados Celsius equivalen a 46.4 grados Fahrenheit\n",
      "9 en grados Celsius equivalen a 48.2 grados Fahrenheit\n",
      "11 en grados Celsius equivalen a 51.8 grados Fahrenheit\n",
      "15 en grados Celsius equivalen a 59.0 grados Fahrenheit\n",
      "16 en grados Celsius equivalen a 60.8 grados Fahrenheit\n",
      "16 en grados Celsius equivalen a 60.8 grados Fahrenheit\n",
      "16 en grados Celsius equivalen a 60.8 grados Fahrenheit\n",
      "18 en grados Celsius equivalen a 64.4 grados Fahrenheit\n",
      "20 en grados Celsius equivalen a 68.0 grados Fahrenheit\n"
     ]
    }
   ],
   "source": [
    "h.convierte_grados('c','f')"
   ]
  },
  {
   "cell_type": "code",
   "execution_count": 44,
   "metadata": {},
   "outputs": [
    {
     "name": "stdout",
     "output_type": "stream",
     "text": [
      "El número 1 es primo\n",
      "El número 1 es primo\n",
      "El número 2 es primo\n",
      "El número 5 es primo\n",
      "El número 8 NO es primo\n",
      "El número 8 NO es primo\n",
      "El número 9 NO es primo\n",
      "El número 11 es primo\n",
      "El número 15 NO es primo\n",
      "El número 16 NO es primo\n",
      "El número 16 NO es primo\n",
      "El número 16 NO es primo\n",
      "El número 18 NO es primo\n",
      "El número 20 NO es primo\n"
     ]
    }
   ],
   "source": [
    "h.verifica_Primo()"
   ]
  },
  {
   "cell_type": "code",
   "execution_count": 52,
   "metadata": {},
   "outputs": [
    {
     "name": "stdout",
     "output_type": "stream",
     "text": [
      "El número más frecuente es 16 y se repite 3 veces\n"
     ]
    }
   ],
   "source": [
    "h.valor_modal()"
   ]
  },
  {
   "cell_type": "code",
   "execution_count": 67,
   "metadata": {},
   "outputs": [
    {
     "name": "stdout",
     "output_type": "stream",
     "text": [
      "El factorial de 1 es 1\n",
      "El factorial de 1 es 1\n",
      "El factorial de 2 es 2\n",
      "El factorial de 5 es 120\n",
      "El factorial de 8 es 40320\n",
      "El factorial de 8 es 40320\n",
      "El factorial de 9 es 362880\n",
      "El factorial de 11 es 39916800\n",
      "El factorial de 15 es 1307674368000\n",
      "El factorial de 16 es 20922789888000\n",
      "El factorial de 16 es 20922789888000\n",
      "El factorial de 16 es 20922789888000\n",
      "El factorial de 18 es 6402373705728000\n",
      "El factorial de 20 es 2432902008176640000\n"
     ]
    }
   ],
   "source": [
    "h.factorial()"
   ]
  },
  {
   "attachments": {},
   "cell_type": "markdown",
   "metadata": {},
   "source": [
    "8) Crear un archivo .py aparte y ubicar allí la clase generada en el punto anterior. Luego realizar la importación del módulo y probar alguna de sus funciones"
   ]
  },
  {
   "cell_type": "code",
   "execution_count": 93,
   "metadata": {},
   "outputs": [],
   "source": [
    "from operaciones import *"
   ]
  },
  {
   "cell_type": "code",
   "execution_count": 99,
   "metadata": {},
   "outputs": [],
   "source": [
    "h2 = Operaciones([1,1,2,3,5,6,8,8])"
   ]
  },
  {
   "cell_type": "code",
   "execution_count": 100,
   "metadata": {},
   "outputs": [
    {
     "name": "stdout",
     "output_type": "stream",
     "text": [
      "El número 1 es primo\n",
      "El número 1 es primo\n",
      "El número 2 es primo\n",
      "El número 3 es primo\n",
      "El número 5 es primo\n",
      "El número 6 NO es primo\n",
      "El número 8 NO es primo\n",
      "El número 8 NO es primo\n"
     ]
    }
   ],
   "source": [
    "h2.verifica_Primo()"
   ]
  },
  {
   "cell_type": "code",
   "execution_count": 1,
   "metadata": {},
   "outputs": [
    {
     "name": "stdout",
     "output_type": "stream",
     "text": [
      "El factorial de 1 es 1\n",
      "El factorial de 1 es 1\n",
      "El factorial de 2 es 2\n",
      "El factorial de 3 es 6\n",
      "El factorial de 5 es 120\n",
      "El factorial de 6 es 720\n",
      "El factorial de 8 es 40320\n",
      "El factorial de 8 es 40320\n"
     ]
    }
   ],
   "source": [
    "from opera import *\n",
    "\n",
    "cal1 = Calculos([1,1,2,3,5,6,8,8])\n",
    "\n",
    "cal1.factorial()"
   ]
  },
  {
   "cell_type": "code",
   "execution_count": 3,
   "metadata": {},
   "outputs": [
    {
     "name": "stdout",
     "output_type": "stream",
     "text": [
      "1  en grados  Celsius  equivalen a  33.8  grados Fahrenheit\n",
      "1  en grados  Celsius  equivalen a  33.8  grados Fahrenheit\n",
      "2  en grados  Celsius  equivalen a  35.6  grados Fahrenheit\n",
      "3  en grados  Celsius  equivalen a  37.4  grados Fahrenheit\n",
      "5  en grados  Celsius  equivalen a  41.0  grados Fahrenheit\n",
      "6  en grados  Celsius  equivalen a  42.8  grados Fahrenheit\n",
      "8  en grados  Celsius  equivalen a  46.4  grados Fahrenheit\n",
      "8  en grados  Celsius  equivalen a  46.4  grados Fahrenheit\n"
     ]
    }
   ],
   "source": [
    "from opera import Calculos\n",
    "\n",
    "cal2 = Calculos([1,1,2,3,5,6,8,8])\n",
    "\n",
    "cal2.convierte_grados('c','f')"
   ]
  },
  {
   "cell_type": "code",
   "execution_count": 5,
   "metadata": {},
   "outputs": [
    {
     "name": "stdout",
     "output_type": "stream",
     "text": [
      "El número más frecuente es 1 y se repite 2 veces\n"
     ]
    }
   ],
   "source": [
    "import opera\n",
    "\n",
    "cal3 = opera.Calculos([1,1,2,3,5,6,8,8])\n",
    "\n",
    "cal3.valor_modal()"
   ]
  },
  {
   "cell_type": "code",
   "execution_count": 6,
   "metadata": {},
   "outputs": [
    {
     "name": "stdout",
     "output_type": "stream",
     "text": [
      "El número 1 es primo\n",
      "El número 1 es primo\n",
      "El número 2 es primo\n",
      "El número 3 es primo\n",
      "El número 5 es primo\n",
      "El número 6 NO es primo\n",
      "El número 8 NO es primo\n",
      "El número 8 NO es primo\n"
     ]
    }
   ],
   "source": [
    "import opera as o\n",
    "\n",
    "cal4 = o.Calculos([1,1,2,3,5,6,8,8])\n",
    "\n",
    "cal4.verifica_Primo()"
   ]
  },
  {
   "cell_type": "code",
   "execution_count": 36,
   "metadata": {},
   "outputs": [
    {
     "name": "stdout",
     "output_type": "stream",
     "text": [
      "['c:\\\\Users\\\\Usuario\\\\Desktop\\\\Python-Prep\\\\M08_clasesyOOP', 'C:\\\\Program Files\\\\WindowsApps\\\\PythonSoftwareFoundation.Python.3.11_3.11.1264.0_x64__qbz5n2kfra8p0\\\\python311.zip', 'C:\\\\Program Files\\\\WindowsApps\\\\PythonSoftwareFoundation.Python.3.11_3.11.1264.0_x64__qbz5n2kfra8p0\\\\DLLs', 'C:\\\\Program Files\\\\WindowsApps\\\\PythonSoftwareFoundation.Python.3.11_3.11.1264.0_x64__qbz5n2kfra8p0\\\\Lib', 'C:\\\\Program Files\\\\WindowsApps\\\\PythonSoftwareFoundation.Python.3.11_3.11.1264.0_x64__qbz5n2kfra8p0', '', 'C:\\\\Users\\\\Usuario\\\\AppData\\\\Local\\\\Packages\\\\PythonSoftwareFoundation.Python.3.11_qbz5n2kfra8p0\\\\LocalCache\\\\local-packages\\\\Python311\\\\site-packages', 'C:\\\\Users\\\\Usuario\\\\AppData\\\\Local\\\\Packages\\\\PythonSoftwareFoundation.Python.3.11_qbz5n2kfra8p0\\\\LocalCache\\\\local-packages\\\\Python311\\\\site-packages\\\\win32', 'C:\\\\Users\\\\Usuario\\\\AppData\\\\Local\\\\Packages\\\\PythonSoftwareFoundation.Python.3.11_qbz5n2kfra8p0\\\\LocalCache\\\\local-packages\\\\Python311\\\\site-packages\\\\win32\\\\lib', 'C:\\\\Users\\\\Usuario\\\\AppData\\\\Local\\\\Packages\\\\PythonSoftwareFoundation.Python.3.11_qbz5n2kfra8p0\\\\LocalCache\\\\local-packages\\\\Python311\\\\site-packages\\\\Pythonwin', 'C:\\\\Program Files\\\\WindowsApps\\\\PythonSoftwareFoundation.Python.3.11_3.11.1264.0_x64__qbz5n2kfra8p0\\\\Lib\\\\site-packages']\n"
     ]
    }
   ],
   "source": [
    "import sys\n",
    "print(sys.path)"
   ]
  }
 ],
 "metadata": {
  "interpreter": {
   "hash": "c85384e4cb51c8b72350f3a8712cc8351fdc3955e32a27f9b60c6242ab125f01"
  },
  "kernelspec": {
   "display_name": "Python 3 (ipykernel)",
   "language": "python",
   "name": "python3"
  },
  "language_info": {
   "codemirror_mode": {
    "name": "ipython",
    "version": 3
   },
   "file_extension": ".py",
   "mimetype": "text/x-python",
   "name": "python",
   "nbconvert_exporter": "python",
   "pygments_lexer": "ipython3",
   "version": "3.11.4"
  }
 },
 "nbformat": 4,
 "nbformat_minor": 4
}
