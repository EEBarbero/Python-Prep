{
 "cells": [
  {
   "attachments": {},
   "cell_type": "markdown",
   "metadata": {},
   "source": [
    "## Flujos de Control"
   ]
  },
  {
   "attachments": {},
   "cell_type": "markdown",
   "metadata": {},
   "source": [
    "1) Crear una variable que contenga un elemento del conjunto de números enteros y luego imprimir por pantalla si es mayor o menor a cero"
   ]
  },
  {
   "cell_type": "code",
   "execution_count": 2,
   "metadata": {},
   "outputs": [
    {
     "name": "stdout",
     "output_type": "stream",
     "text": [
      "Es menos que cero\n"
     ]
    }
   ],
   "source": [
    "numero = -5\n",
    "if numero < 0 :\n",
    "    print('Es menos que cero')\n",
    "elif numero > 0 :\n",
    "    print('Es mayor que cero')\n",
    "else :\n",
    "    print('Es cero')"
   ]
  },
  {
   "attachments": {},
   "cell_type": "markdown",
   "metadata": {},
   "source": [
    "2) Crear dos variables y un condicional que informe si son del mismo tipo de dato"
   ]
  },
  {
   "cell_type": "code",
   "execution_count": 6,
   "metadata": {},
   "outputs": [
    {
     "name": "stdout",
     "output_type": "stream",
     "text": [
      "Las dos variables son del mismo tipo de datos\n"
     ]
    }
   ],
   "source": [
    "a = \"5.4\"\n",
    "b = \"3\"\n",
    "if type(a) == type(b):\n",
    "    print(\"Las dos variables son del mismo tipo de datos\")\n",
    "else:\n",
    "    print(\"Las dos variables son de distinto tipo de datos\")"
   ]
  },
  {
   "attachments": {},
   "cell_type": "markdown",
   "metadata": {},
   "source": [
    "3) Para los valores enteros del 1 al 20, imprimir por pantalla si es par o impar"
   ]
  },
  {
   "cell_type": "code",
   "execution_count": 14,
   "metadata": {},
   "outputs": [
    {
     "name": "stdout",
     "output_type": "stream",
     "text": [
      "1 es impar\n",
      "2 es par\n",
      "3 es impar\n",
      "4 es par\n",
      "5 es impar\n",
      "6 es par\n",
      "7 es impar\n",
      "8 es par\n",
      "9 es impar\n",
      "10 es par\n",
      "11 es impar\n",
      "12 es par\n",
      "13 es impar\n",
      "14 es par\n",
      "15 es impar\n",
      "16 es par\n",
      "17 es impar\n",
      "18 es par\n",
      "19 es impar\n",
      "20 es par\n",
      "1 es impar\n",
      "2 es par\n",
      "3 es impar\n",
      "4 es par\n",
      "5 es impar\n",
      "6 es par\n",
      "7 es impar\n",
      "8 es par\n",
      "9 es impar\n",
      "10 es par\n",
      "11 es impar\n",
      "12 es par\n",
      "13 es impar\n",
      "14 es par\n",
      "15 es impar\n",
      "16 es par\n",
      "17 es impar\n",
      "18 es par\n",
      "19 es impar\n",
      "20 es par\n"
     ]
    }
   ],
   "source": [
    "for i in range(1,21):\n",
    "    if i % 2 == 0:\n",
    "        print(f\"{i} es par\")\n",
    "    else:\n",
    "        print(f\"{i} es impar\")\n",
    "        \n",
    "i=1\n",
    "while i < 21 :\n",
    "    if i % 2 == 0:\n",
    "        print(f\"{i} es par\")\n",
    "    else:\n",
    "        print(f\"{i} es impar\")\n",
    "    i += 1"
   ]
  },
  {
   "attachments": {},
   "cell_type": "markdown",
   "metadata": {},
   "source": [
    "4) En un ciclo for mostrar para los valores entre 0 y 5 el resultado de elevarlo a la potencia igual a 3"
   ]
  },
  {
   "cell_type": "code",
   "execution_count": 13,
   "metadata": {},
   "outputs": [
    {
     "name": "stdout",
     "output_type": "stream",
     "text": [
      "0\n",
      "1\n",
      "8\n",
      "27\n",
      "64\n",
      "125\n"
     ]
    }
   ],
   "source": [
    "for i in range(6):\n",
    "    print(i**3)"
   ]
  },
  {
   "attachments": {},
   "cell_type": "markdown",
   "metadata": {},
   "source": [
    "5) Crear una variable que contenga un número entero y realizar un ciclo for la misma cantidad de ciclos"
   ]
  },
  {
   "cell_type": "code",
   "execution_count": 18,
   "metadata": {},
   "outputs": [
    {
     "name": "stdout",
     "output_type": "stream",
     "text": [
      "6\n"
     ]
    }
   ],
   "source": [
    "n1 = 7\n",
    "for i in range(0,n1):\n",
    "    pass\n",
    "print(i)"
   ]
  },
  {
   "attachments": {},
   "cell_type": "markdown",
   "metadata": {},
   "source": [
    "6) Utilizar un ciclo while para realizar el factorial de un número guardado en una variable, sólo si la variable contiene un número entero mayor a 0"
   ]
  },
  {
   "cell_type": "code",
   "execution_count": 20,
   "metadata": {},
   "outputs": [
    {
     "name": "stdout",
     "output_type": "stream",
     "text": [
      "5040\n"
     ]
    }
   ],
   "source": [
    "i = 7\n",
    "if type(i) == int and i>0 :\n",
    "    factI = 1\n",
    "    while i > 1:\n",
    "        factI *= i\n",
    "        i -= 1\n",
    "    print(factI)\n",
    "else:\n",
    "    print(\"No se cumplen las condiciones para calcular el factorial\")\n",
    "    "
   ]
  },
  {
   "attachments": {},
   "cell_type": "markdown",
   "metadata": {},
   "source": [
    "7) Crear un ciclo for dentro de un ciclo while"
   ]
  },
  {
   "cell_type": "code",
   "execution_count": 23,
   "metadata": {},
   "outputs": [
    {
     "name": "stdout",
     "output_type": "stream",
     "text": [
      "El factorial de 7 es 5040\n",
      "El factorial de 6 es 720\n",
      "El factorial de 5 es 120\n",
      "El factorial de 4 es 24\n",
      "El factorial de 3 es 6\n",
      "El factorial de 2 es 2\n",
      "El factorial de 1 es 1\n"
     ]
    }
   ],
   "source": [
    "n1 = 7\n",
    "while n1 > 0 :\n",
    "    factI = 1\n",
    "    for i in range(1,n1+1) :\n",
    "        factI *= i\n",
    "    print(f\"El factorial de {n1} es {factI}\")\n",
    "    n1 -= 1"
   ]
  },
  {
   "attachments": {},
   "cell_type": "markdown",
   "metadata": {},
   "source": [
    "8) Crear un ciclo while dentro de un ciclo for"
   ]
  },
  {
   "cell_type": "code",
   "execution_count": 26,
   "metadata": {},
   "outputs": [
    {
     "name": "stdout",
     "output_type": "stream",
     "text": [
      "El factorial de 1 es 1\n",
      "El factorial de 2 es 2\n",
      "El factorial de 3 es 6\n",
      "El factorial de 4 es 24\n",
      "El factorial de 5 es 120\n",
      "El factorial de 6 es 720\n",
      "El factorial de 7 es 5040\n"
     ]
    }
   ],
   "source": [
    "n1 = 7\n",
    "for n in range(1,n1+1) :\n",
    "    factI = 1\n",
    "    i=1\n",
    "    while i<= n :\n",
    "        factI *= i\n",
    "        i += 1\n",
    "    print(f\"El factorial de {n} es {factI}\")"
   ]
  },
  {
   "attachments": {},
   "cell_type": "markdown",
   "metadata": {},
   "source": [
    "9) Imprimir los números primos existentes entre 0 y 30"
   ]
  },
  {
   "cell_type": "code",
   "execution_count": 33,
   "metadata": {},
   "outputs": [
    {
     "name": "stdout",
     "output_type": "stream",
     "text": [
      "0\n",
      "1\n",
      "2\n",
      "3\n",
      "5\n",
      "7\n",
      "11\n",
      "13\n",
      "17\n",
      "19\n",
      "23\n",
      "29\n"
     ]
    }
   ],
   "source": [
    "for i in range(0,31) :\n",
    "    primo = True\n",
    "    for n in range(2,i):\n",
    "        if i % n == 0 and n < i:\n",
    "            primo = False\n",
    "            break\n",
    "    if primo == True:\n",
    "        print(i)"
   ]
  },
  {
   "attachments": {},
   "cell_type": "markdown",
   "metadata": {},
   "source": [
    "10) ¿Se puede mejorar el proceso del punto 9? Utilizar las sentencias break y/ó continue para tal fin"
   ]
  },
  {
   "cell_type": "code",
   "execution_count": null,
   "metadata": {},
   "outputs": [],
   "source": [
    "# ya resolví el punto 9 usando break"
   ]
  },
  {
   "attachments": {},
   "cell_type": "markdown",
   "metadata": {},
   "source": [
    "11) En los puntos 9 y 10, se diseño un código que encuentra números primos y además se lo optimizó. ¿Es posible saber en qué medida se optimizó?"
   ]
  },
  {
   "cell_type": "code",
   "execution_count": 36,
   "metadata": {},
   "outputs": [
    {
     "name": "stdout",
     "output_type": "stream",
     "text": [
      "Sin optimizar se cicló 52 veces, optimizado se cicló 19. Se logró una mejora del 63.46153846153847%.\n"
     ]
    }
   ],
   "source": [
    "tope = 31\n",
    "pasa1 = 0\n",
    "for i in range(0,tope) :\n",
    "    primo = True\n",
    "    for n in range(2,i):\n",
    "        if i % n == 0 and n < i:\n",
    "            primo = False\n",
    "            pasa1 += 1\n",
    "\n",
    "pasa2 = 0\n",
    "for i in range(0,tope) :\n",
    "    primo = True\n",
    "    for n in range(2,i):\n",
    "        if i % n == 0 and n < i:\n",
    "            primo = False\n",
    "            pasa2 += 1\n",
    "            break\n",
    "\n",
    "print(f\"Sin optimizar se cicló {pasa1} veces, optimizado se cicló {pasa2}. Se logró una mejora del {100-pasa2/pasa1*100}%.\")"
   ]
  },
  {
   "attachments": {},
   "cell_type": "markdown",
   "metadata": {},
   "source": [
    "12) Si la cantidad de números que se evalúa es mayor a treinta, esa optimización crece?"
   ]
  },
  {
   "cell_type": "code",
   "execution_count": 38,
   "metadata": {},
   "outputs": [
    {
     "name": "stdout",
     "output_type": "stream",
     "text": [
      "Sin optimizar se cicló 1168 veces, optimizado se cicló 237. Se logró una mejora del 79.70890410958904%.\n"
     ]
    }
   ],
   "source": [
    "tope = 301\n",
    "pasa1 = 0\n",
    "for i in range(0,tope) :\n",
    "    primo = True\n",
    "    for n in range(2,i):\n",
    "        if i % n == 0 and n < i:\n",
    "            primo = False\n",
    "            pasa1 += 1\n",
    "\n",
    "pasa2 = 0\n",
    "for i in range(0,tope) :\n",
    "    primo = True\n",
    "    for n in range(2,i):\n",
    "        if i % n == 0 and n < i:\n",
    "            primo = False\n",
    "            pasa2 += 1\n",
    "            break\n",
    "\n",
    "print(f\"Sin optimizar se cicló {pasa1} veces, optimizado se cicló {pasa2}. Se logró una mejora del {100-pasa2/pasa1*100}%.\")"
   ]
  },
  {
   "attachments": {},
   "cell_type": "markdown",
   "metadata": {},
   "source": [
    "13) Aplicando continue, armar un ciclo while que solo imprima los valores divisibles por 12, dentro del rango de números de 100 a 300"
   ]
  },
  {
   "cell_type": "code",
   "execution_count": 40,
   "metadata": {},
   "outputs": [
    {
     "name": "stdout",
     "output_type": "stream",
     "text": [
      "108\n",
      "120\n",
      "132\n",
      "144\n",
      "156\n",
      "168\n",
      "180\n",
      "192\n",
      "204\n",
      "216\n",
      "228\n",
      "240\n",
      "252\n",
      "264\n",
      "276\n",
      "288\n",
      "300\n"
     ]
    }
   ],
   "source": [
    "i=99\n",
    "while (i < 301):\n",
    "    i += 1\n",
    "    if i % 12 != 0:\n",
    "        continue\n",
    "    print(i)"
   ]
  },
  {
   "attachments": {},
   "cell_type": "markdown",
   "metadata": {},
   "source": [
    "14) Utilizar la función **input()** que permite hacer ingresos por teclado, para encontrar números primos y dar la opción al usario de buscar el siguiente"
   ]
  },
  {
   "cell_type": "code",
   "execution_count": 45,
   "metadata": {},
   "outputs": [
    {
     "name": "stdout",
     "output_type": "stream",
     "text": [
      "El siguiente primo es 0\n",
      "Tipee 1 para interrumpir\n",
      "El siguiente primo es 1\n",
      "Tipee 1 para interrumpir\n",
      "El siguiente primo es 2\n",
      "Tipee 1 para interrumpir\n",
      "El siguiente primo es 3\n",
      "Tipee 1 para interrumpir\n",
      "El siguiente primo es 5\n",
      "Tipee 1 para interrumpir\n",
      "El siguiente primo es 7\n",
      "Tipee 1 para interrumpir\n",
      "El siguiente primo es 11\n",
      "Tipee 1 para interrumpir\n",
      "El siguiente primo es 13\n",
      "Tipee 1 para interrumpir\n"
     ]
    }
   ],
   "source": [
    "i=0\n",
    "while True:\n",
    "    primo = True\n",
    "    for n in range(2,i):\n",
    "        if (i % n == 0):\n",
    "            primo = False\n",
    "            exit\n",
    "    if (primo == True):\n",
    "        print(f\"El siguiente primo es {i}\")\n",
    "        print(\"Tipee 1 para interrumpir\")\n",
    "        if (input() == '1'):\n",
    "            break\n",
    "    i += 1"
   ]
  },
  {
   "attachments": {},
   "cell_type": "markdown",
   "metadata": {},
   "source": [
    "15) Crear un ciclo while que encuentre dentro del rango de 100 a 300 el primer número divisible por 3 y además múltiplo de 6"
   ]
  },
  {
   "cell_type": "code",
   "execution_count": 46,
   "metadata": {},
   "outputs": [
    {
     "name": "stdout",
     "output_type": "stream",
     "text": [
      "El primer numero divisible por 3 y múltiplo de 6 es: 102\n"
     ]
    }
   ],
   "source": [
    "n = 100\n",
    "while n<=301:\n",
    "    if (n % 6 == 0):\n",
    "        print(f\"El primer numero divisible por 3 y múltiplo de 6 es: {n}\")\n",
    "        break\n",
    "    n += 1"
   ]
  }
 ],
 "metadata": {
  "interpreter": {
   "hash": "c85384e4cb51c8b72350f3a8712cc8351fdc3955e32a27f9b60c6242ab125f01"
  },
  "kernelspec": {
   "display_name": "Python 3 (ipykernel)",
   "language": "python",
   "name": "python3"
  },
  "language_info": {
   "codemirror_mode": {
    "name": "ipython",
    "version": 3
   },
   "file_extension": ".py",
   "mimetype": "text/x-python",
   "name": "python",
   "nbconvert_exporter": "python",
   "pygments_lexer": "ipython3",
   "version": "3.11.4"
  }
 },
 "nbformat": 4,
 "nbformat_minor": 4
}
